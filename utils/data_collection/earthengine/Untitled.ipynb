{
 "cells": [
  {
   "cell_type": "code",
   "execution_count": null,
   "id": "55134bad-bdb8-47a3-b499-2b10a733c682",
   "metadata": {},
   "outputs": [],
   "source": [
    "import ee"
   ]
  },
  {
   "cell_type": "code",
   "execution_count": null,
   "id": "f4b02c69-52f8-4633-baba-4468c7a9d575",
   "metadata": {},
   "outputs": [],
   "source": [
    "ee.Initialize()"
   ]
  }
 ],
 "metadata": {
  "kernelspec": {
   "display_name": "Python 3 (ipykernel)",
   "language": "python",
   "name": "python3"
  },
  "language_info": {
   "name": ""
  }
 },
 "nbformat": 4,
 "nbformat_minor": 5
}
